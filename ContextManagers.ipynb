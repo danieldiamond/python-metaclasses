{
 "cells": [
  {
   "cell_type": "markdown",
   "metadata": {},
   "source": [
    "#### Context Managers\n",
    "There is always some setup and tear down notion that you want to combine.\n",
    "```\n",
    "with open('contextmanager.py') as f:\n",
    "    pass\n",
    "```\n",
    "e.g. open `contextmanager.py` file, do something, close file.<br>\n",
    "This concept is particularly important when writing/with IO buffers as you want to make sure you write to disk before closing the file."
   ]
  },
  {
   "cell_type": "markdown",
   "metadata": {},
   "source": [
    "#### Example: Tables"
   ]
  },
  {
   "cell_type": "code",
   "execution_count": 2,
   "metadata": {},
   "outputs": [],
   "source": [
    "from sqlite3 import connect"
   ]
  },
  {
   "cell_type": "code",
   "execution_count": 3,
   "metadata": {},
   "outputs": [
    {
     "name": "stdout",
     "output_type": "stream",
     "text": [
      "(3,)\n"
     ]
    }
   ],
   "source": [
    "with connect('test.db') as conn: # connect method as a context manager\n",
    "    cur = conn.cursor()\n",
    "    cur.execute('create table points(x int, y int)')\n",
    "    cur.execute('insert into points (x, y) values (1, 1)')\n",
    "    cur.execute('insert into points (x, y) values (2, 1)')\n",
    "    for row in cur.execute('select sum(x * y) from points'):\n",
    "        print(row)\n",
    "    cur.execute('drop table points')"
   ]
  },
  {
   "cell_type": "markdown",
   "metadata": {},
   "source": [
    "In the above example, the connection to the database is a context manager i.e. we open an connection, commit some statements and then close the connection.<br>\n",
    "<b>But</b> there is another context manager going on here --> _create and drop a table_\n",
    "\n",
    "NOTE: Naturally this could be done with a transaction which has the right semantics\n",
    "but for this example, we'll pretend we don't have this capability and need to create and drop table.\n",
    "\n",
    "### Remeber!\n",
    "<b>there is always some top-level syntax or function and a corresponding `__method__` that implements it.</b>\n",
    "```\n",
    "x + y --> __add__\n",
    "init x --> __init__\n",
    "repr(x) --> __repr__\n",
    "x() --> __call__\n",
    "```\n",
    "So a context manager is essentially...\n",
    "```\n",
    "x = contextmanager().__enter__()\n",
    "try:\n",
    "    pass\n",
    "finally:\n",
    "    x.__exit__()\n",
    "```"
   ]
  },
  {
   "cell_type": "code",
   "execution_count": 4,
   "metadata": {},
   "outputs": [
    {
     "name": "stdout",
     "output_type": "stream",
     "text": [
      "(3,)\n"
     ]
    }
   ],
   "source": [
    "class TempTable: # temp table as a context manager\n",
    "    def __init__(self, cur):\n",
    "        self.cur = cur\n",
    "    def __enter__(self):\n",
    "        self.cur.execute('create table points(x int, y int)')\n",
    "    def __exit__(self, *args):\n",
    "        self.cur.execute('drop table points')\n",
    "\n",
    "with connect('test.db') as conn: # connect method as a context manager\n",
    "    cur = conn.cursor()\n",
    "    with TempTable(cur):\n",
    "        cur.execute('insert into points (x, y) values (1, 1)')\n",
    "        cur.execute('insert into points (x, y) values (2, 1)')\n",
    "        for row in cur.execute('select sum(x * y) from points'):\n",
    "            print(row)"
   ]
  },
  {
   "cell_type": "markdown",
   "metadata": {},
   "source": [
    "NOTE: Context managers have a clear and unambiguous metaphor behind them.<br>\n",
    "So let's look at something interesting with the temp table context manager.\n",
    "\n",
    "```\n",
    "class TempTable:\n",
    "    def __init__(self, cur):\n",
    "        self.cur = cur\n",
    "    def __enter__(self):\n",
    "        self.cur.execute('create table points(x int, y int)')\n",
    "    def __exit__(self, *args):\n",
    "        self.cur.execute('drop table points')\n",
    "```\n",
    "\n",
    "<b>The enter should always be called before the exit</b> --> Use a generator!<br>\n",
    "NOTE: Generators force sequencing. They are a mechanism by which you can create code that interleaves with other code and also enforces interleaving (co-routines)."
   ]
  },
  {
   "cell_type": "markdown",
   "metadata": {},
   "source": [
    "#### Temp Table as a Generator\n",
    "- We want to a process that creates a table, accepts some user code and then drops the table: CONTEXT MANAGER \n",
    "- We want to enforce the sequencing of creating a table, executing some statements and then dropping a table: GENERATOR\n",
    "- So we want to create a generator and wrap it in a context manager!"
   ]
  },
  {
   "cell_type": "code",
   "execution_count": 10,
   "metadata": {},
   "outputs": [
    {
     "name": "stdout",
     "output_type": "stream",
     "text": [
      "(3,)\n"
     ]
    }
   ],
   "source": [
    "def temptable(cur):\n",
    "    cur.execute('create table points(x int, y int)')\n",
    "    yield\n",
    "    cur.execute('drop table points')\n",
    "\n",
    "class contextmanager:\n",
    "    def __init__(self, cur):\n",
    "        self.cur = cur\n",
    "    def __enter__(self):\n",
    "        self.gen = temptable(self.cur)\n",
    "        next(self.gen)\n",
    "    def __exit__(self, *args):\n",
    "        next(self.gen, None)\n",
    "\n",
    "with connect('test.db') as conn:\n",
    "    cur = conn.cursor()\n",
    "    with contextmanager(cur):\n",
    "        cur.execute('insert into points (x, y) values (1, 1)')\n",
    "        cur.execute('insert into points (x, y) values (2, 1)')\n",
    "        for row in cur.execute('select sum(x * y) from points'):\n",
    "            print(row)"
   ]
  },
  {
   "cell_type": "markdown",
   "metadata": {},
   "source": [
    "#### Generalizing the contextmanager Class\n",
    "The context manager class is hard coded, so let's make it more generalized"
   ]
  },
  {
   "cell_type": "code",
   "execution_count": 7,
   "metadata": {},
   "outputs": [
    {
     "name": "stdout",
     "output_type": "stream",
     "text": [
      "(3,)\n"
     ]
    }
   ],
   "source": [
    "class contextmanager:\n",
    "    def __init__(self, gen):\n",
    "        self.gen = gen\n",
    "    def __call__(self, *args, **kwargs): # call the generator with args, kwargs\n",
    "        self.args, self.kwargs = args, kwargs\n",
    "        return self\n",
    "    def __enter__(self): # iterate over the generator\n",
    "        self.gen_inst = self.gen(*self.args, **self.kwargs)\n",
    "        next(self.gen_inst)\n",
    "    def __exit__(self, *args): # end the generator\n",
    "        next(self.gen_inst, None)\n",
    "\n",
    "@contextmanager # wrap the generator in a context manager\n",
    "def temptable(cur):\n",
    "    cur.execute('create table points(x int, y int)')\n",
    "    yield\n",
    "    cur.execute('drop table points')\n",
    "    \n",
    "# temptable = contextmanager(temptable)\n",
    "\n",
    "with connect('test.db') as conn:\n",
    "    cur = conn.cursor()\n",
    "    with temptable(cur):\n",
    "        cur.execute('insert into points (x, y) values (1, 1)')\n",
    "        cur.execute('insert into points (x, y) values (2, 1)')\n",
    "        for row in cur.execute('select sum(x * y) from points'):\n",
    "            print(row)"
   ]
  },
  {
   "cell_type": "markdown",
   "metadata": {},
   "source": [
    "#### Contextmanager has already been written!"
   ]
  },
  {
   "cell_type": "code",
   "execution_count": 8,
   "metadata": {},
   "outputs": [
    {
     "name": "stdout",
     "output_type": "stream",
     "text": [
      "(3,)\n"
     ]
    }
   ],
   "source": [
    "from contextlib import contextmanager\n",
    "\n",
    "@contextmanager\n",
    "def temptable(cur):\n",
    "    cur.execute('create table points(x int, y int)')\n",
    "    try:\n",
    "        yield\n",
    "    finally:\n",
    "        cur.execute('drop table points')\n",
    "\n",
    "with connect('test.db') as conn: # the connect method is a context manager too\n",
    "    cur = conn.cursor()\n",
    "    with temptable(cur):\n",
    "        cur.execute('insert into points (x, y) values (1, 1)')\n",
    "        cur.execute('insert into points (x, y) values (2, 1)')\n",
    "        for row in cur.execute('select sum(x * y) from points'):\n",
    "            print(row)"
   ]
  },
  {
   "cell_type": "markdown",
   "metadata": {},
   "source": [
    "## Summary:\n",
    "\n",
    "3 fundamental features, mechanisms and a clear reason on how to use them:\n",
    "1. <b>context manager</b>: \n",
    "    - setup & tear down pairing. ensures tear-down if setup occurred.\n",
    "2. <b>generator</b>: \n",
    "    - merely syntax that enforces sequencing and interleaving\n",
    "    - prevents eager loading i.e. take a long computation and break it up into chunks for the user to process\n",
    "\n",
    "NOTE: A Context Manager requires sequencing and interleaving i.e. setup, wait for user code, then tear down. i.e. generator. We also need something to adapt the generator to the data model i.e. wrapping the generator into a context manager (Decorator!)\n",
    "3. <b>decorator</b>: wrapping the generator into a context manager.\n",
    "\n",
    "\n",
    "Code that has clarity for when and where a feature should be use - I have this pattern and python has this mechanism. No additional mechanism or protocols etc. the language is specific to the purpose"
   ]
  }
 ],
 "metadata": {
  "kernelspec": {
   "display_name": "Python 3",
   "language": "python",
   "name": "python3"
  },
  "language_info": {
   "codemirror_mode": {
    "name": "ipython",
    "version": 3
   },
   "file_extension": ".py",
   "mimetype": "text/x-python",
   "name": "python",
   "nbconvert_exporter": "python",
   "pygments_lexer": "ipython3",
   "version": "3.7.3"
  }
 },
 "nbformat": 4,
 "nbformat_minor": 2
}
