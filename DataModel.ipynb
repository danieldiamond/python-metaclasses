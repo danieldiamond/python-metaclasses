{
 "cells": [
  {
   "cell_type": "markdown",
   "metadata": {},
   "source": [
    "### Data Model Methods\n",
    "For an arbitrary object, I require some behaviour --> write some `__function__` i.e. dunder methods or data model methods: https://docs.python.org/3/reference/datamodel.html\n",
    "\n",
    "NOTE: In python you will always find this pattern: <b>top-level function or syntax and a corresponding `__method__` function</b>\n",
    "```\n",
    "x + y --> __add__\n",
    "init x --> __init__\n",
    "repr(x) --> __repr__\n",
    "x() --> __call__\n",
    "```\n",
    "\n",
    "Data Model Methods: A means by which you can implement protocols, which have an abstract meaning depending on the object itself.\n",
    "e.g. \n",
    "- len(polynomial) would be the highest degree\n",
    "- repr(polynomial) is the representation of a polynomial\n",
    "\n",
    "So remember, there is a top-level function that allows us to invoke that protocol\n",
    "i.e. `__len__` or `__repr__`\n",
    "where we delegate back to the protocol itself i.e.\n",
    "```\n",
    "def __len__(self):\n",
    "    return len(self.coeffs)\n",
    "```"
   ]
  },
  {
   "cell_type": "code",
   "execution_count": 2,
   "metadata": {},
   "outputs": [],
   "source": [
    "class Polynomial:\n",
    "    def __init__(self, *coeffs):\n",
    "        self.coeffs = coeffs\n",
    "\n",
    "    def __repr__(self):\n",
    "        # represent\n",
    "        return 'Polynomial(*{!r})'.format(self.coeffs)\n",
    "\n",
    "    def __add__(self, other):\n",
    "        return Polynomial(*(x + y for x, y in zip(self.coeffs, other.coeffs)))\n",
    "\n",
    "    def __len__(self):\n",
    "        # highest order of the polynomial\n",
    "        return len(self.coeffs)\n",
    "\n",
    "    def __call__(self):\n",
    "        # in the case of a polynomial, a call doesn't really make sense\n",
    "        pass"
   ]
  },
  {
   "cell_type": "code",
   "execution_count": 5,
   "metadata": {},
   "outputs": [],
   "source": [
    "p1 = Polynomial(1, 2, 3)\n",
    "p2 = Polynomial(3, 4, 3)"
   ]
  },
  {
   "cell_type": "code",
   "execution_count": 6,
   "metadata": {},
   "outputs": [
    {
     "name": "stdout",
     "output_type": "stream",
     "text": [
      "Polynomial(*(1, 2, 3)) Polynomial(*(3, 4, 3))\n"
     ]
    }
   ],
   "source": [
    "print(p1, p2)"
   ]
  },
  {
   "cell_type": "code",
   "execution_count": 9,
   "metadata": {},
   "outputs": [
    {
     "name": "stdout",
     "output_type": "stream",
     "text": [
      "3\n"
     ]
    }
   ],
   "source": [
    "print(len(p1))"
   ]
  },
  {
   "cell_type": "code",
   "execution_count": 8,
   "metadata": {},
   "outputs": [
    {
     "name": "stdout",
     "output_type": "stream",
     "text": [
      "Polynomial(*(4, 6, 6))\n"
     ]
    }
   ],
   "source": [
    "print(p1+p2)"
   ]
  }
 ],
 "metadata": {
  "kernelspec": {
   "display_name": "Python 3",
   "language": "python",
   "name": "python3"
  },
  "language_info": {
   "codemirror_mode": {
    "name": "ipython",
    "version": 3
   },
   "file_extension": ".py",
   "mimetype": "text/x-python",
   "name": "python",
   "nbconvert_exporter": "python",
   "pygments_lexer": "ipython3",
   "version": "3.7.3"
  }
 },
 "nbformat": 4,
 "nbformat_minor": 2
}
