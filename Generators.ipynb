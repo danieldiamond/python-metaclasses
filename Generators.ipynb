{
 "cells": [
  {
   "cell_type": "markdown",
   "metadata": {},
   "source": [
    "### Generators\n",
    "NOTE: In python you will always find this pattern: <b>top-level function or syntax and a corresponding `__method__` function</b><br>\n",
    "```x()         __call__ protocol```"
   ]
  },
  {
   "cell_type": "markdown",
   "metadata": {},
   "source": [
    "### Example: Add "
   ]
  },
  {
   "cell_type": "code",
   "execution_count": 1,
   "metadata": {},
   "outputs": [],
   "source": [
    "def add1(x, y): # as a function\n",
    "    return x + y\n",
    "\n",
    "class Adder: # as a class\n",
    "    def __call__(self, x, y):\n",
    "        return x + y\n",
    "\n",
    "add2 = Adder()"
   ]
  },
  {
   "cell_type": "code",
   "execution_count": 2,
   "metadata": {},
   "outputs": [
    {
     "data": {
      "text/plain": [
       "3"
      ]
     },
     "execution_count": 2,
     "metadata": {},
     "output_type": "execute_result"
    }
   ],
   "source": [
    "add1(1, 2)"
   ]
  },
  {
   "cell_type": "code",
   "execution_count": 3,
   "metadata": {},
   "outputs": [
    {
     "data": {
      "text/plain": [
       "3"
      ]
     },
     "execution_count": 3,
     "metadata": {},
     "output_type": "execute_result"
    }
   ],
   "source": [
    "add2(1, 2)"
   ]
  },
  {
   "cell_type": "markdown",
   "metadata": {},
   "source": [
    "#### What is the difference between add1 and add2? \n",
    "Functionally, they're the same. But one is a function and one is a class.\n",
    "<br><br>\n",
    "If you wanted to add some statement behaviour:"
   ]
  },
  {
   "cell_type": "code",
   "execution_count": 4,
   "metadata": {},
   "outputs": [],
   "source": [
    "class Adder:\n",
    "    def __init__(self):\n",
    "        self.z = 0\n",
    "\n",
    "    def __call__(self, x, y):\n",
    "        self.z += 1\n",
    "        return x + y + self.z"
   ]
  },
  {
   "cell_type": "markdown",
   "metadata": {},
   "source": [
    "i.e. there is some nice syntax and then some object model that everything sits in."
   ]
  },
  {
   "cell_type": "markdown",
   "metadata": {},
   "source": [
    "## An example that has long computation time\n",
    "A function that takes a lot of time to do something i.e. network request\n",
    "```\n",
    "def load_data():\n",
    "    rows = []\n",
    "    while db.read():\n",
    "        rows.append( ... )\n",
    "```"
   ]
  },
  {
   "cell_type": "code",
   "execution_count": 2,
   "metadata": {},
   "outputs": [],
   "source": [
    "from time import sleep # let's mimick reading a database/some heavy complex process\n",
    "def compute():\n",
    "    rv = []\n",
    "    for i in range(10):\n",
    "        sleep(.5)\n",
    "        rv.append(i)\n",
    "    return rv"
   ]
  },
  {
   "cell_type": "code",
   "execution_count": 3,
   "metadata": {},
   "outputs": [
    {
     "data": {
      "text/plain": [
       "[0, 1, 2, 3, 4, 5, 6, 7, 8, 9]"
      ]
     },
     "execution_count": 3,
     "metadata": {},
     "output_type": "execute_result"
    }
   ],
   "source": [
    "compute()"
   ]
  },
  {
   "cell_type": "markdown",
   "metadata": {},
   "source": [
    "<b>Eagerness vs Laziness</b>\n",
    "\n",
    "When you run this, it will take 5 seconds to run.\n",
    "- time: if we only want the first value, it will still take 5 seconds to run.\n",
    "- memory: it will require 10 units of memory (10 integers in a list), even if we only care about the first element.\n",
    "\n",
    "This is the notion of eagerness - irrespective of what you care about in the computation, it will always take the full amount of memory and time. It eagerly gives you the entire result and you're waiting for the entire result before you can process anything.\n",
    "<br><br>\n",
    "This is undesireable:\n",
    "- If you have 1 million entries, you need to wait the entire time even if you want to start processing elements one by one.\n",
    "- You have to hold gigabytes of memory whilst you process one by one."
   ]
  },
  {
   "cell_type": "code",
   "execution_count": 4,
   "metadata": {},
   "outputs": [],
   "source": [
    "# as a class\n",
    "\n",
    "class Compute:\n",
    "    def __class__(self):\n",
    "        rv = []\n",
    "        for i in range(10):\n",
    "            sleep(.5)\n",
    "            rv.append(i)\n",
    "        return rv\n",
    "\n",
    "compute = Compute()"
   ]
  },
  {
   "cell_type": "markdown",
   "metadata": {},
   "source": [
    "#### So if we only want one element at a time... where have we seen this?\n",
    "For Loops\n",
    "\n",
    "\n",
    "A basic loop --> get one element at a time i.e. `for i in mylist`\n",
    "\n",
    "Remember: <b>top-level syntax or function --> underscore method</b><br>\n",
    "```\n",
    "for x in xs:\n",
    "    pass\n",
    "```\n",
    "The above looks like this under the covers:\n",
    "```\n",
    "x1 = iter(xs)           --> __iter__\n",
    "while True:\n",
    "    x = next(x1)        --> __next__\n",
    "```\n",
    "So we can take a class and add an iter and a next. and suddenly it can\n",
    "    be iterated over.\n"
   ]
  },
  {
   "cell_type": "code",
   "execution_count": 6,
   "metadata": {},
   "outputs": [],
   "source": [
    "class Compute:\n",
    "    def __iter__(self):\n",
    "        self.last = 0\n",
    "        return self\n",
    "    \n",
    "    def __next__(self):\n",
    "        rv = self.last\n",
    "        self.last += 1\n",
    "        \n",
    "        if self.last > 10:\n",
    "            raise StopIteration()\n",
    "            \n",
    "        sleep(.5)\n",
    "        return rv"
   ]
  },
  {
   "cell_type": "code",
   "execution_count": 7,
   "metadata": {},
   "outputs": [
    {
     "name": "stdout",
     "output_type": "stream",
     "text": [
      "0\n",
      "1\n",
      "2\n",
      "3\n",
      "4\n",
      "5\n",
      "6\n",
      "7\n",
      "8\n",
      "9\n"
     ]
    }
   ],
   "source": [
    "# Now we are only returning one element in the list each time\n",
    "for val in Compute():\n",
    "    print(val)"
   ]
  },
  {
   "cell_type": "code",
   "execution_count": 9,
   "metadata": {},
   "outputs": [],
   "source": [
    "# So lets rewrite the original compute function early above.\n",
    "def compute(): # NOTE: compute can be iterated over\n",
    "    for i in range(10):\n",
    "        sleep(.5)\n",
    "        yield(i)"
   ]
  },
  {
   "cell_type": "markdown",
   "metadata": {},
   "source": [
    "### Summary\n",
    "Taken the original function formulation and modified to a <b>generated</b> formulation.\n",
    "<br><br>\n",
    "i.e. some library code runs, then some user code, then some library code and so on...\n",
    "<br><br>\n",
    "This is the main idea of co-routines and the idea of generators.<br>\n",
    "i.e. iterleaving of library and user code --> generator yields and returns value and waits for the user code and then generator yields another..."
   ]
  },
  {
   "cell_type": "markdown",
   "metadata": {},
   "source": [
    "There is one more important feature of a generator...\n",
    "## Example 2: APIs"
   ]
  },
  {
   "cell_type": "code",
   "execution_count": 11,
   "metadata": {},
   "outputs": [],
   "source": [
    "# Often see API's that look like this\n",
    "\n",
    "class Api:\n",
    "    def run_this_first(self):\n",
    "        first()\n",
    "    def run_this_second(self):\n",
    "        second()\n",
    "    def run_this_last(self):\n",
    "        last()"
   ]
  },
  {
   "cell_type": "markdown",
   "metadata": {},
   "source": [
    "And the documentation says make sure to run it first. then second. then last.\n",
    "otherwise it will all break.\n",
    "<br><br>\n",
    "But nothing stops you from doing this in the wrong order i.e.:\n",
    "```\n",
    "Api.run_this_last()\n",
    "Api.run_this_first()\n",
    "```\n",
    "In this case, we'd want some interleaving.<br>\n",
    "NOTE: if we didn't want to have interleaving between the three steps in the API then we wouldn't have 3 separate functions. We would've just written it all together."
   ]
  },
  {
   "cell_type": "code",
   "execution_count": 12,
   "metadata": {},
   "outputs": [],
   "source": [
    "def api():\n",
    "    first()\n",
    "    yield # yield control (no value necessarily)\n",
    "    second()\n",
    "    yield\n",
    "    last()\n"
   ]
  },
  {
   "cell_type": "markdown",
   "metadata": {},
   "source": [
    "Generators are a mechanism by which you can create code that interleaves with other code and also enforces interleaving (co-routines). forces sequencing."
   ]
  }
 ],
 "metadata": {
  "kernelspec": {
   "display_name": "Python 3",
   "language": "python",
   "name": "python3"
  },
  "language_info": {
   "codemirror_mode": {
    "name": "ipython",
    "version": 3
   },
   "file_extension": ".py",
   "mimetype": "text/x-python",
   "name": "python",
   "nbconvert_exporter": "python",
   "pygments_lexer": "ipython3",
   "version": "3.7.3"
  }
 },
 "nbformat": 4,
 "nbformat_minor": 2
}
